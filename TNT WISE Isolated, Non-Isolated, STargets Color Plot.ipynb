{
 "cells": [
  {
   "cell_type": "code",
   "execution_count": 318,
   "id": "9d233b67",
   "metadata": {},
   "outputs": [],
   "source": [
    "import numpy as np\n",
    "np.seterr(divide='ignore', invalid='ignore')      #for divide by zero\n",
    "from __future__ import division                   #for divide by zero\n",
    "import time, shutil\n",
    "import sys\n",
    "import matplotlib.pyplot as plt\n",
    "import os, glob, pdb, math\n",
    "import math \n",
    "import pandas as pd #for dataframe object"
   ]
  },
  {
   "cell_type": "code",
   "execution_count": 319,
   "id": "d88a40a6",
   "metadata": {},
   "outputs": [],
   "source": [
    "from astropy.io import ascii\n",
    "from astropy.io import fits\n",
    "from astropy import wcs"
   ]
  },
  {
   "cell_type": "code",
   "execution_count": 320,
   "id": "db0a9920",
   "metadata": {},
   "outputs": [],
   "source": [
    "IsolFile = open('ddmergers_WISE.dat', 'r')\n",
    "NeighFile = open('ddmergers_WISE_wneighbor.dat', 'r')\n",
    "# STarFile = open('data.txt', 'r')\n",
    "\n",
    "IsolData = IsolFile.read()\n",
    "NeighFile = NeighFile.read()\n",
    "# STarFile = STarFile.read()"
   ]
  },
  {
   "cell_type": "code",
   "execution_count": 321,
   "id": "5187c458",
   "metadata": {},
   "outputs": [
    {
     "data": {
      "text/plain": [
       "'/Users/oyang/Downloads'"
      ]
     },
     "execution_count": 321,
     "metadata": {},
     "output_type": "execute_result"
    }
   ],
   "source": [
    "target_dir = os.getcwd()\n",
    "target_dir"
   ]
  },
  {
   "cell_type": "code",
   "execution_count": 332,
   "id": "3705456e",
   "metadata": {},
   "outputs": [],
   "source": [
    "# Isolated data\n",
    "\n",
    "Iid_01 = np.loadtxt(target_dir + '/ddmergers_WISE.dat', dtype=str, unpack=True,\n",
    "                        skiprows=25, usecols=(5))\n",
    "\n",
    "Iw1mpro = np.loadtxt(target_dir + '/ddmergers_WISE.dat', dtype=float, unpack=True,\n",
    "                        skiprows=25, usecols=(12))\n",
    "Iw1sigmpro = np.loadtxt(target_dir + '/ddmergers_WISE.dat', dtype=float, unpack=True,\n",
    "                        skiprows=25, usecols=(13))\n",
    "\n",
    "Iw2mpro = np.loadtxt(target_dir + '/ddmergers_WISE.dat', dtype=float, unpack=True,\n",
    "                        skiprows=25, usecols=(16))\n",
    "Iw2sigmpro = np.loadtxt(target_dir + '/ddmergers_WISE.dat', dtype=float, unpack=True,\n",
    "                        skiprows=25, usecols=(17))\n",
    "\n",
    "Iw3mpro = np.loadtxt(target_dir + '/ddmergers_WISE.dat', dtype=float, unpack=True,\n",
    "                        skiprows=25, usecols=(20))\n",
    "Iw3sigmpro = np.loadtxt(target_dir + '/ddmergers_WISE.dat', dtype=float, unpack=True,\n",
    "                        skiprows=25, usecols=(21))\n",
    "\n",
    "Iw1snr = np.loadtxt(target_dir + '/ddmergers_WISE.dat', dtype=float, unpack=True,\n",
    "                        skiprows=25, usecols=(14))\n",
    "Iw2snr = np.loadtxt(target_dir + '/ddmergers_WISE.dat', dtype=float, unpack=True,\n",
    "                        skiprows=25, usecols=(18))\n",
    "Iw3snr = np.loadtxt(target_dir + '/ddmergers_WISE.dat', dtype=float, unpack=True,\n",
    "                        skiprows=25, usecols=(22))\n",
    "\n",
    "# Neighbor (non-isolated) data\n",
    "\n",
    "Nid_01 = np.loadtxt(target_dir + '/ddmergers_WISE_wneighbor.dat', dtype=str, unpack=True,\n",
    "                        skiprows=25, usecols=(5))\n",
    "\n",
    "Nw1mpro = np.loadtxt(target_dir + '/ddmergers_WISE_wneighbor.dat', dtype=float, unpack=True,\n",
    "                        skiprows=25, usecols=(12))\n",
    "Nw1sigmpro = np.loadtxt(target_dir + '/ddmergers_WISE_wneighbor.dat', dtype=float, unpack=True,\n",
    "                        skiprows=25, usecols=(13))\n",
    "\n",
    "Nw2mpro = np.loadtxt(target_dir + '/ddmergers_WISE_wneighbor.dat', dtype=float, unpack=True,\n",
    "                        skiprows=25, usecols=(16))\n",
    "Nw2sigmpro = np.loadtxt(target_dir + '/ddmergers_WISE_wneighbor.dat', dtype=float, unpack=True,\n",
    "                        skiprows=25, usecols=(17))\n",
    "\n",
    "Nw3mpro = np.loadtxt(target_dir + '/ddmergers_WISE_wneighbor.dat', dtype=float, unpack=True,\n",
    "                        skiprows=25, usecols=(20))\n",
    "Nw3sigmpro = np.loadtxt(target_dir + '/ddmergers_WISE_wneighbor.dat', dtype=float, unpack=True,\n",
    "                        skiprows=25, usecols=(21))\n",
    "\n",
    "Nw1snr = np.loadtxt(target_dir + '/ddmergers_WISE_wneighbor.dat', dtype=float, unpack=True,\n",
    "                        skiprows=25, usecols=(14))\n",
    "Nw2snr = np.loadtxt(target_dir + '/ddmergers_WISE_wneighbor.dat', dtype=float, unpack=True,\n",
    "                        skiprows=25, usecols=(18))\n",
    "Nw3snr = np.loadtxt(target_dir + '/ddmergers_WISE_wneighbor.dat', dtype=float, unpack=True,\n",
    "                        skiprows=25, usecols=(22))\n",
    "\n",
    "# STargets data\n",
    "\n",
    "Sid_01 = np.loadtxt(target_dir + '/ddmergers_WISE_wneighbor.dat', dtype=str, unpack=True,\n",
    "                        skiprows=25, usecols=(5))\n",
    "\n",
    "Sw1mpro = np.loadtxt(target_dir + '/ddmergers_WISE_wneighbor.dat', dtype=float, unpack=True,\n",
    "                        skiprows=25, usecols=(12))\n",
    "Sw1sigmpro = np.loadtxt(target_dir + '/ddmergers_WISE_wneighbor.dat', dtype=float, unpack=True,\n",
    "                        skiprows=25, usecols=(13))\n",
    "\n",
    "Sw2mpro = np.loadtxt(target_dir + '/ddmergers_WISE_wneighbor.dat', dtype=float, unpack=True,\n",
    "                        skiprows=25, usecols=(16))\n",
    "Sw2sigmpro = np.loadtxt(target_dir + '/ddmergers_WISE_wneighbor.dat', dtype=float, unpack=True,\n",
    "                        skiprows=25, usecols=(17))\n",
    "\n",
    "Sw3mpro = np.loadtxt(target_dir + '/ddmergers_WISE_wneighbor.dat', dtype=float, unpack=True,\n",
    "                        skiprows=25, usecols=(20))\n",
    "Sw3sigmpro = np.loadtxt(target_dir + '/ddmergers_WISE_wneighbor.dat', dtype=float, unpack=True,\n",
    "                        skiprows=25, usecols=(21))\n",
    "\n",
    "Sw1snr = np.loadtxt(target_dir + '/ddmergers_WISE_wneighbor.dat', dtype=float, unpack=True,\n",
    "                        skiprows=25, usecols=(14))\n",
    "Sw2snr = np.loadtxt(target_dir + '/ddmergers_WISE_wneighbor.dat', dtype=float, unpack=True,\n",
    "                        skiprows=25, usecols=(18))\n",
    "Sw3snr = np.loadtxt(target_dir + '/ddmergers_WISE_wneighbor.dat', dtype=float, unpack=True,\n",
    "                        skiprows=25, usecols=(22))"
   ]
  },
  {
   "cell_type": "code",
   "execution_count": 333,
   "id": "3ed68dbe",
   "metadata": {},
   "outputs": [],
   "source": [
    "# Isolated robust points\n",
    "\n",
    "i = 0\n",
    "IwInd = []\n",
    "while i<len(Iw1mpro):\n",
    "    if (Iw1mpro[i]/Iw1sigmpro[i] > 5) and (Iw2mpro[i]/Iw2sigmpro[i] > 5) and (Iw3mpro[i]/Iw3sigmpro[i] > 5):\n",
    "        IwInd.append(i)\n",
    "        i+=1\n",
    "    else:\n",
    "        i+=1"
   ]
  },
  {
   "cell_type": "code",
   "execution_count": 334,
   "id": "0d48f77b",
   "metadata": {},
   "outputs": [],
   "source": [
    "# Isolated robust points\n",
    "j = 0\n",
    "while j<len(Iw1snr):\n",
    "    if (Iw1snr[j] >= 5.) and (Iw2snr[j] >= 5.) and (Iw3snr[j] <= 5.):\n",
    "        IwInd.append(j)\n",
    "        j+=1\n",
    "    else:\n",
    "        j+=1\n"
   ]
  },
  {
   "cell_type": "code",
   "execution_count": 335,
   "id": "b7e728ab",
   "metadata": {},
   "outputs": [],
   "source": [
    "# Isolated delete duplicates\n",
    "\n",
    "IwInd = list(dict.fromkeys(IwInd))\n"
   ]
  },
  {
   "cell_type": "code",
   "execution_count": 336,
   "id": "eb6dc330",
   "metadata": {},
   "outputs": [],
   "source": [
    "# Neighbor robust points\n",
    "\n",
    "i = 0\n",
    "NwInd = []\n",
    "while i<len(Nw1mpro):\n",
    "    if (Nw1mpro[i]/Nw1sigmpro[i] > 5) and (Nw2mpro[i]/Nw2sigmpro[i] > 5) and (Nw3mpro[i]/Nw3sigmpro[i] > 5):\n",
    "        NwInd.append(i)\n",
    "        i+=1\n",
    "    else:\n",
    "        i+=1\n"
   ]
  },
  {
   "cell_type": "code",
   "execution_count": 337,
   "id": "3dcafc32",
   "metadata": {},
   "outputs": [],
   "source": [
    "# Neighbor robust points\n",
    "\n",
    "j = 0\n",
    "while j<len(Nw1snr):\n",
    "    if (Nw1snr[j] >= 5.) and (Nw2snr[j] >= 5.) and (Nw3snr[j] <= 5.):\n",
    "        NwInd.append(j)\n",
    "        j+=1\n",
    "    else:\n",
    "        j+=1\n"
   ]
  },
  {
   "cell_type": "code",
   "execution_count": 338,
   "id": "f2929d9e",
   "metadata": {},
   "outputs": [],
   "source": [
    "# Neighbor delete duplicates\n",
    "\n",
    "NwInd = list(dict.fromkeys(NwInd))\n"
   ]
  },
  {
   "cell_type": "code",
   "execution_count": 339,
   "id": "5fd3c97f",
   "metadata": {},
   "outputs": [],
   "source": [
    "# STargets robust points\n",
    "\n",
    "k = 0\n",
    "SwInd = []\n",
    "while k<len(Sw1mpro):\n",
    "    if (Sw1mpro[k]/Sw1sigmpro[k] > 5) and (Sw2mpro[k]/Sw2sigmpro[k] > 5) and (Sw3mpro[k]/Sw3sigmpro[k] > 5):\n",
    "        SwInd.append(k)\n",
    "        k+=1\n",
    "    else:\n",
    "        k+=1"
   ]
  },
  {
   "cell_type": "code",
   "execution_count": 340,
   "id": "1b8f8211",
   "metadata": {},
   "outputs": [],
   "source": [
    "# STargets robust points\n",
    "\n",
    "m = 0\n",
    "while m<len(Sw1snr):\n",
    "    if (Sw1snr[m] >= 5.) and (Sw2snr[m] >= 5.) and (Sw3snr[m] <= 5.):\n",
    "        SwInd.append(m)\n",
    "        m+=1\n",
    "    else:\n",
    "        m+=1\n"
   ]
  },
  {
   "cell_type": "code",
   "execution_count": 341,
   "id": "20eea259",
   "metadata": {},
   "outputs": [],
   "source": [
    "# STargets delete duplicates\n",
    "\n",
    "SwInd = list(dict.fromkeys(SwInd))\n"
   ]
  },
  {
   "cell_type": "code",
   "execution_count": 342,
   "id": "cb9dee45",
   "metadata": {},
   "outputs": [],
   "source": [
    "# Isolated robust points\n",
    "# Is this right for the x and y values?\n",
    "\n",
    "Iw2_w3 = Iw2mpro - Iw3mpro\n",
    "Iw1_w2 = Iw1mpro - Iw2mpro"
   ]
  },
  {
   "cell_type": "code",
   "execution_count": 343,
   "id": "e99207f4",
   "metadata": {},
   "outputs": [],
   "source": [
    "# Neighbor (non-isolated) robust points\n",
    "# Is this right for the x and y values?\n",
    "\n",
    "Nw2_w3 = Nw2mpro - Nw3mpro\n",
    "Nw1_w2 = Nw1mpro - Nw2mpro"
   ]
  },
  {
   "cell_type": "code",
   "execution_count": 344,
   "id": "d0b17730",
   "metadata": {},
   "outputs": [],
   "source": [
    "# STarget robust points\n",
    "# Is this right for the x and y values?\n",
    "\n",
    "Sw2_w3 = Sw2mpro - Sw3mpro\n",
    "Sw1_w2 = Sw1mpro - Sw2mpro"
   ]
  },
  {
   "cell_type": "code",
   "execution_count": 369,
   "id": "c274ed15",
   "metadata": {},
   "outputs": [
    {
     "data": {
      "text/plain": [
       "<function matplotlib.pyplot.show(close=None, block=None)>"
      ]
     },
     "execution_count": 369,
     "metadata": {},
     "output_type": "execute_result"
    },
    {
     "data": {
      "image/png": "[encoded data removed]",
      "text/plain": [
       "<Figure size 432x288 with 1 Axes>"
      ]
     },
     "metadata": {
      "needs_background": "light"
     },
     "output_type": "display_data"
    }
   ],
   "source": [
    "# define corner points\n",
    "\n",
    "x1 = [2.245, 2.245, 4.283, 4.283]\n",
    "y1 = [0.622, 1.704, 1.704, 0.786]\n",
    "\n",
    "\n",
    "x2 = [-1, -1, 7, 7]\n",
    "y2 = [0.8, 3, 3, 0.8]\n",
    "\n",
    "x3 = [-1, -1, 7, 7]\n",
    "y3 = [0.5, 3, 3, 0.5]\n",
    "\n",
    "plt.xlim(-1, 7)\n",
    "plt.ylim(-0.5, 3)\n",
    "\n",
    "# plot\n",
    "plt.fill(x1, y1, alpha = 0.5, color='#539ecd', label = 'AGN region')\n",
    "plt.fill(x2, y2, alpha = 0.25, color='#539ecd', label = 'AGN region')\n",
    "plt.fill(x3, y3, alpha = 0.15, color='#539ecd', label = 'AGN region')\n",
    "\n",
    "\n",
    "\n",
    "plt.scatter(Iw2_w3[IwInd], Iw1_w2[IwInd], label = \"isolated dwarf pairs\")\n",
    "plt.scatter(Nw2_w3[NwInd], Nw1_w2[NwInd], label = \"non-isolated dwarf pairs\")\n",
    "\n",
    "\n",
    "\n",
    "plt.grid()\n",
    "plt.xlabel(\"W2-W3 in mag\")\n",
    "plt.ylabel(\"W1-W2 in mag)\")\n",
    "plt.title(\"\")\n",
    "plt.legend(loc='upper left', prop={'size': 8})\n",
    "\n",
    "\n",
    "plt.show\n"
   ]
  },
  {
   "cell_type": "code",
   "execution_count": null,
   "id": "0bbe7fd1",
   "metadata": {},
   "outputs": [],
   "source": []
  },
  {
   "cell_type": "code",
   "execution_count": null,
   "id": "0bbc3193",
   "metadata": {},
   "outputs": [],
   "source": []
  },
  {
   "cell_type": "code",
   "execution_count": 376,
   "id": "39db8e39",
   "metadata": {},
   "outputs": [
    {
     "name": "stdout",
     "output_type": "stream",
     "text": [
      "True\n"
     ]
    }
   ],
   "source": [
    "from shapely.geometry import Point\n",
    "from shapely.geometry.polygon import Polygon\n",
    "\n",
    "point = Point(0.5, 0.5)\n",
    "polygon = Polygon([(0, 0), (0, 1), (1, 1), (1, 0)])\n",
    "print(polygon.contains(point))"
   ]
  },
  {
   "cell_type": "code",
   "execution_count": null,
   "id": "32c30fbd",
   "metadata": {},
   "outputs": [],
   "source": [
    "x1 = [2.245, 2.245, 4.283, 4.283]\n",
    "y1 = [0.622, 1.704, 1.704, 0.786]\n",
    "\n",
    "\n",
    "x2 = [-1, -1, 7, 7]\n",
    "y2 = [0.8, 3, 3, 0.8]\n",
    "\n",
    "x3 = [-1, -1, 7, 7]\n",
    "y3 = [0.5, 3, 3, 0.5]\n"
   ]
  },
  {
   "cell_type": "code",
   "execution_count": null,
   "id": "a4cdd5ab",
   "metadata": {},
   "outputs": [],
   "source": []
  },
  {
   "cell_type": "code",
   "execution_count": null,
   "id": "d228e843",
   "metadata": {},
   "outputs": [],
   "source": []
  }
 ],
 "metadata": {
  "kernelspec": {
   "display_name": "Python 3",
   "language": "python",
   "name": "python3"
  },
  "language_info": {
   "codemirror_mode": {
    "name": "ipython",
    "version": 3
   },
   "file_extension": ".py",
   "mimetype": "text/x-python",
   "name": "python",
   "nbconvert_exporter": "python",
   "pygments_lexer": "ipython3",
   "version": "3.8.8"
  }
 },
 "nbformat": 4,
 "nbformat_minor": 5
}
