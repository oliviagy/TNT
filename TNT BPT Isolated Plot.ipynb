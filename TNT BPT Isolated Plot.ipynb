{
 "cells": [
  {
   "cell_type": "code",
   "execution_count": 4,
   "id": "db14a341",
   "metadata": {},
   "outputs": [],
   "source": [
    "import numpy as np\n",
    "np.seterr(divide='ignore', invalid='ignore')      #for divide by zero\n",
    "from __future__ import division                   #for divide by zero\n",
    "import time, shutil\n",
    "import sys\n",
    "import matplotlib.pyplot as plt\n",
    "import os, glob, pdb, math\n",
    "import math \n",
    "import pandas as pd #for dataframe object"
   ]
  },
  {
   "cell_type": "code",
   "execution_count": 5,
   "id": "23dd1799",
   "metadata": {},
   "outputs": [],
   "source": [
    "from astropy.io import ascii\n",
    "from astropy.io import fits\n",
    "from astropy import wcs"
   ]
  },
  {
   "cell_type": "code",
   "execution_count": 6,
   "id": "6c923b46",
   "metadata": {},
   "outputs": [],
   "source": [
    "\n",
    "# 1. Create array of rows with information (for each dwarf galaxy)\n",
    "# 2. Index within the row to find data for each column\n",
    "# 3. Create list with just column data \n",
    "# DMID is column 0\n",
    "\n",
    "file = open('ddmergers_pairs_sdss_BPT.dat')\n",
    "list = []\n",
    "for line in file:\n",
    "    list += [line.split()]\n",
    "    \n",
    "column_7_Halpha = [x[7] for x in list]           # This list has Halpha data\n",
    "column_7_Halpha.remove(column_7_Halpha[0])\n",
    "\n",
    "column_9_Hbeta = [x[9] for x in list]            # This list has Hbeta data\n",
    "column_9_Hbeta.remove(column_9_Hbeta[0])\n",
    "\n",
    "column_5_NII = [x[5] for x in list]              # This list has NII data\n",
    "column_5_NII.remove(column_5_NII[0])\n",
    "\n",
    "column_11_OIII = [x[11] for x in list]           # This list has OIII data\n",
    "column_11_OIII.remove(column_11_OIII[0])\n",
    "    "
   ]
  },
  {
   "cell_type": "code",
   "execution_count": 7,
   "id": "0daaa6b0",
   "metadata": {},
   "outputs": [],
   "source": [
    "\n",
    "# Convert elements from column list from STRING to FLOAT\n",
    "\n",
    "column_7_Halpha = [float(x) for x in column_7_Halpha]\n",
    "\n",
    "column_9_Hbeta = [float(x) for x in column_9_Hbeta]\n",
    "\n",
    "column_5_NII = [float(x) for x in column_5_NII]\n",
    "\n",
    "column_11_OIII = [float(x) for x in column_11_OIII]\n"
   ]
  },
  {
   "cell_type": "code",
   "execution_count": 13,
   "id": "cd3df54c",
   "metadata": {},
   "outputs": [
    {
     "name": "stdout",
     "output_type": "stream",
     "text": [
      "\n",
      "DivideNII/Halpha :\n",
      " [0.04753295890778653, 0.05695740783954496, 0.09183473958098332, 0.07728372710322169, 0.05718062271553845, 0.040025648494071885, 0.02359514573472366, 0.008717904827114003, 0.0950141251427541, 0.06630737250451989, 0.03995079742110621, 0.04909889740863043, 0.10877223055496037, 0.19335501694767496, 0.13579533483822423, 0.18428529099053564, 0.20428515148494644, 0.04306277689542757, 0.05708868188590089, 0.12192694368369592, 0.1920652825625235, 0.14037015827843044, 0.1112562134180417, 0.35416844004834946, 0.1161561361043875, 0.39494112183166696, 0.11799016884252099, 0.15840661224779376, 0.3422023875673368, 0.18663015936472693, 0.24258109530062766, 0.1576478341621233, 0.41334931273964903, 0.10321782434489113, 0.0004911879549305094, 0.066797317799301, 0.03355621424822256, 0.06477107354752043, 0.16155746517945815, 0.2115991365784544, 0.10695026553263526, 0.13030534351145037, 0.10379419926515153, 0.1372055937193327, 0.2734129483524498, 0.11294736334250013, 0.21820375159003638, 0.07328832760066396, 0.027491708648563998, 0.031037683541038905, 0.08885391657955499, 0.08018549154621, 0.10255111827214484, 0.21074205827471287, 0.10763792017727755, 0.2524111025140852, 0.0812318574218366, 0.05116991085556869, 0.06701104799624785, 0.35387074624936815, 0.12067131005556235, 0.0760989546133368, 0.0069985471170578946, 0.14732858061281995, 0.13851651297919287, 0.33144824495283887, 0.20713835732430144, 0.08759403115485959, 0.21244702741983063, 0.08691048661049101, 0.03348223129453557, 0.16359334203655354, 0.22805106991637342, 0.040274658711651444, 0.03725328753910937, 0.08897795741739667, 0.0780474749613816, 0.06409482663447881, 0.07421678348758859, 0.07813775083342987, 0.0731137677774607, 0.2314596293208491, 0.18793846808963643, 0.2155359479001559, 0.3305769530034236, 0.12535783051476557, 0.07618693358582444, 0.16072200524249672, 0.09446900768565547, 0.20555605136670133, 0.1620868202458432, 0.08820578939920438, 0.19368752220023341, 0.2531702504280201, 0.08756365681049143, 0.15427205234679756, 0.3290265897777466, 0.06914886152827165, 0.11733120469622299, 0.07289780185089804, 0.17392166480551874, 0.1445131198153619, 0.2441330643117136, 0.20183141198593738, 0.15987017249553265, 0.09372353229617081, 0.1662316256096669, 0.34052576894063397, 0.15045495015311397, 0.0881661217231687, 0.18338858125839705, 0.11202488518578022, 0.27522024749197943, 0.15376134321910112, 0.32270402115677405, 0.2168204731071769, 0.19050834427104277, 0.04588783845055459, -0.014929953506927926]\n",
      "\n",
      "Initial length  120\n",
      "Final length  119\n",
      "Removed:  1  values at row(s):  [12]\n",
      "0.10877223055496037\n"
     ]
    }
   ],
   "source": [
    "\n",
    "# Calculate NII/Halpha: create list for divided values --> divideNII has list of divided values\n",
    "\n",
    "initLen = len(column_7_Halpha)    \n",
    "divideNII = []\n",
    "i = 0\n",
    "rmList = []\n",
    "\n",
    "while i<initLen:\n",
    "    if column_7_Halpha[i] != 0.000:\n",
    "        divideNII_value = column_5_NII[i] / column_7_Halpha[i]      \n",
    "        divideNII.append(divideNII_value)\n",
    "        i+=1\n",
    "        \n",
    "    elif column_7_Halpha[i] == 0.000:\n",
    "        divideNII.append(\"NO VALUE DIVIDE BY ZERO\")\n",
    "        \n",
    "        rmList.append(i)\n",
    "\n",
    "        divideNII.remove(divideNII[i]) \n",
    "        \n",
    "        i+=1\n",
    "    else:\n",
    "        print(\"OTHER ERROR\")\n",
    "\n",
    "finalLen = len(divideNII)\n",
    "removes = initLen - finalLen\n",
    "\n",
    "\n",
    "# tester\n",
    "print(\"\\n\" + \"DivideNII/Halpha :\" + \"\\n\", divideNII)\n",
    "print(\"\\n\" + \"Initial length \", initLen)\n",
    "print(\"Final length \", finalLen)\n",
    "print(\"Removed: \", removes, \" values at row(s): \", rmList)\n",
    "print(divideNII[12])     # at the removed value, we replace it with the 13th row value, decrease size -1\n"
   ]
  },
  {
   "cell_type": "code",
   "execution_count": 11,
   "id": "8257b4af",
   "metadata": {},
   "outputs": [],
   "source": [
    "\n",
    "# Calculate OIII/Hbeta: create list for divided values --> divideOIII has list of divided values\n",
    "\n",
    "initLen = len(column_7_Halpha)                 \n",
    "divideOIII = []\n",
    "i = 0\n",
    "rmList = []\n",
    "\n",
    "while i<initLen:\n",
    "    if column_9_Hbeta[i] != 0.000:\n",
    "        divideOIII_value = column_11_OIII[i] / column_9_Hbeta[i]     \n",
    "        divideOIII.append(divideOIII_value)\n",
    "        i+=1\n",
    "        \n",
    "    elif column_9_Hbeta[i] == 0.000:\n",
    "        divideOIII.append(\"NO VALUE DIVIDE BY ZERO\")\n",
    "        \n",
    "        rmList.append(i)\n",
    "\n",
    "        divideOIII.remove(divideOIII[i])    \n",
    "                \n",
    "        i+=1\n",
    "    else:\n",
    "        print(\"OTHER ERROR\")\n",
    "\n",
    "finalLen = len(divideOIII)\n",
    "removes = initLen - finalLen\n",
    "\n",
    "\n",
    "\n",
    "# tester\n",
    "# print(\"\\n\" + \"DivideOII/Hbeta :\" + \"\\n\", divideOIII)\n",
    "# print(\"\\n\" + \"Initial length \", initLen)\n",
    "# print(\"Final length \", finalLen)\n",
    "# print(\"Removed: \", removes, \" values at row(s): \", rmList)\n",
    "# print(divideOIII[12])     # at the removed value, we replace it with the 13th row value, decrease size -1\n"
   ]
  },
  {
   "cell_type": "code",
   "execution_count": 595,
   "id": "10a7ae59",
   "metadata": {},
   "outputs": [],
   "source": [
    "\n",
    "# Log function on list of values --> logN_Ha has list of log(NII/Halpha) data, ie the calculated x-values\n",
    "\n",
    "logN_Ha = []\n",
    "j = 0\n",
    "rmListlogN = []\n",
    "\n",
    "while j < len(divideNII):\n",
    "    logN_Ha_value = np.log10(divideNII[j])\n",
    "    \n",
    "    if math.isnan(logN_Ha_value) == False:\n",
    "        logN_Ha.append(logN_Ha_value)\n",
    "        j += 1\n",
    "    elif math.isnan(logN_Ha_value) == True:\n",
    "        logN_Ha.append(\"nan value\")\n",
    "        \n",
    "        rmListlogN.append(j)\n",
    "    \n",
    "        logN_Ha.remove(logN_Ha[j])\n",
    "        j += 1\n",
    "    \n",
    "    else:\n",
    "        print(\"Other Error\")\n",
    "\n",
    "\n",
    "# Convert log list to array\n",
    "logN_Ha_arr = np.array(logN_Ha)\n",
    "\n",
    "\n",
    "        \n",
    "# tester\n",
    "# print(\"\\n\" + \"X values: \" + \"\\n\", logN_Ha_arr)\n",
    "# print(\"\\n\" + \"Length: \", len(logN_Ha_arr))\n",
    "# print(\"\\n\" + \"Removed value(s) at row: \", rmListlogN)\n"
   ]
  },
  {
   "cell_type": "code",
   "execution_count": 596,
   "id": "70c39d7d",
   "metadata": {},
   "outputs": [],
   "source": [
    "\n",
    "# Log function on list of values --> logO_Hb has list of log(OIII/Hbeta) data, ie the calculated y-values\n",
    "\n",
    "logO_Hb = []\n",
    "k = 0\n",
    "rmListlogO = []\n",
    "\n",
    "while k < len(divideOIII):\n",
    "    logO_Hb_value = np.log10(divideOIII[k])\n",
    "    \n",
    "    if math.isnan(logO_Hb_value) == False:\n",
    "        logO_Hb.append(logO_Hb_value)\n",
    "        k += 1\n",
    "    elif math.isnan(logO_Hb_value) == True:\n",
    "        logO_Hb.append(\"nan value\")\n",
    "        \n",
    "        rmListlogN.append(k)\n",
    "    \n",
    "        logN_Ha.remove(logN_Ha[k])\n",
    "        k += 1\n",
    "    \n",
    "    else:\n",
    "        print(\"Other Error\")\n",
    "        \n",
    "        \n",
    "# Need to remove last element, since log value for corresponding x value is NaN\n",
    "logO_Hb.remove(logO_Hb[118])\n",
    "\n",
    "\n",
    "# Convert log list to array\n",
    "logO_Hb_arr = np.array(logO_Hb)\n",
    "    \n",
    "\n",
    "# tester\n",
    "# print(\"\\n\" + \"Y values: \" + \"\\n\", logO_Hb_arr)\n",
    "# print(\"\\n\" + \"Length: \", len(logO_Hb_arr))\n",
    "# print(\"\\n\" + \"Removed value(s) at row: \", 118)\n"
   ]
  },
  {
   "cell_type": "code",
   "execution_count": 597,
   "id": "6b22a98c",
   "metadata": {},
   "outputs": [],
   "source": [
    "\n",
    "# z = data['z']  #consider that for z>0.4: BPT diagrams can no longer be used (filter out --> infrared)\n"
   ]
  },
  {
   "cell_type": "code",
   "execution_count": 598,
   "id": "41c73264",
   "metadata": {},
   "outputs": [],
   "source": [
    "\n",
    "# Table of x-y values (to check), double checked with Excel and equations, just uncomment the print function for table\n",
    "\n",
    "m = 0\n",
    "while m < len(logO_Hb_arr):\n",
    "    # print(logN_Ha_arr[m], \" \", logO_Hb_arr[m])\n",
    "    m += 1\n",
    "    "
   ]
  },
  {
   "cell_type": "code",
   "execution_count": 599,
   "id": "ea3c09f1",
   "metadata": {},
   "outputs": [
    {
     "data": {
      "text/plain": [
       "<function matplotlib.pyplot.show(close=None, block=None)>"
      ]
     },
     "execution_count": 599,
     "metadata": {},
     "output_type": "execute_result"
    },
    {
     "data": {
      "image/png": "[encoded data removed]",
      "text/plain": [
       "<Figure size 432x288 with 1 Axes>"
      ]
     },
     "metadata": {
      "needs_background": "light"
     },
     "output_type": "display_data"
    }
   ],
   "source": [
    "\n",
    "# Plot the values\n",
    "x = logN_Ha_arr\n",
    "y = logO_Hb_arr\n",
    "\n",
    "plt.scatter(x, y, color = \"black\")\n",
    "\n",
    "\n",
    "y = (0.61/(x - .05)) + 1.3\n",
    "plt.plot(x, y, color = \"red\")  # empirical separation of SF galaxies and AGN based on SDSS galaxies \n",
    "\n",
    "y =(0.61/(x-.47)) + 1.19       \n",
    "plt.plot(x, y, color = \"blue\")  # theoretical limit for star-forming galaxies \n",
    "\n",
    "\n",
    "plt.grid()\n",
    "plt.xlabel(\"log(NII/Halpha)\")\n",
    "plt.ylabel(\"log(OII/Hbeta)\")\n",
    "plt.title(\"BPT Diagram\")\n",
    "\n",
    "\n",
    "plt.show\n"
   ]
  },
  {
   "cell_type": "code",
   "execution_count": null,
   "id": "d4ff67c0",
   "metadata": {},
   "outputs": [],
   "source": []
  },
  {
   "cell_type": "code",
   "execution_count": null,
   "id": "7fc051e7",
   "metadata": {},
   "outputs": [],
   "source": []
  }
 ],
 "metadata": {
  "kernelspec": {
   "display_name": "Python 3",
   "language": "python",
   "name": "python3"
  },
  "language_info": {
   "codemirror_mode": {
    "name": "ipython",
    "version": 3
   },
   "file_extension": ".py",
   "mimetype": "text/x-python",
   "name": "python",
   "nbconvert_exporter": "python",
   "pygments_lexer": "ipython3",
   "version": "3.8.8"
  }
 },
 "nbformat": 4,
 "nbformat_minor": 5
}
