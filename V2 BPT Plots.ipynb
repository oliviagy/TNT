{
 "cells": [
  {
   "cell_type": "code",
   "execution_count": 493,
   "id": "0c2bb431",
   "metadata": {},
   "outputs": [],
   "source": [
    "import numpy as np\n",
    "np.seterr(divide='ignore', invalid='ignore')      #for divide by zero\n",
    "from __future__ import division                   #for divide by zero\n",
    "import time, shutil\n",
    "import sys\n",
    "import matplotlib.pyplot as plt\n",
    "import os, glob, pdb, math\n",
    "import math "
   ]
  },
  {
   "cell_type": "code",
   "execution_count": 494,
   "id": "ed456884",
   "metadata": {},
   "outputs": [],
   "source": [
    "from astropy.io import ascii\n",
    "from astropy.io import fits\n",
    "from astropy import wcs"
   ]
  },
  {
   "cell_type": "code",
   "execution_count": 495,
   "id": "041f960a",
   "metadata": {},
   "outputs": [],
   "source": [
    "\n",
    "# Create array for x values; incremented\n",
    "\n",
    "xArr = []\n",
    "i = 0\n",
    "xincrement = 0.1\n",
    "\n",
    "while i < 35:\n",
    "    xArrValue = -3.5 + (i*xincrement)  \n",
    "    xArr.append(xArrValue)\n",
    "    i+=1\n",
    "    \n",
    "xArr = np.array(xArr)\n"
   ]
  },
  {
   "cell_type": "code",
   "execution_count": 496,
   "id": "fd37a12e",
   "metadata": {},
   "outputs": [],
   "source": [
    "IsolFile = open('ddmergers_pairs_sdss_BPT.dat', 'r')\n",
    "NeighFile = open('ddmergers_pairs_sdss_BPT_wneighbor.dat', 'r')\n",
    "# STarFile = open('data.txt', 'r')\n",
    "\n",
    "IsolData = IsolFile.read()\n",
    "NeighFile = NeighFile.read()\n",
    "# STarFile = STarFile.read()"
   ]
  },
  {
   "cell_type": "code",
   "execution_count": 497,
   "id": "74f4407b",
   "metadata": {},
   "outputs": [
    {
     "data": {
      "text/plain": [
       "'/Users/oyang/Downloads'"
      ]
     },
     "execution_count": 497,
     "metadata": {},
     "output_type": "execute_result"
    }
   ],
   "source": [
    "target_dir = os.getcwd()\n",
    "target_dir"
   ]
  },
  {
   "cell_type": "code",
   "execution_count": 498,
   "id": "9e823ab8",
   "metadata": {},
   "outputs": [],
   "source": [
    "# Isolated dwarf pair data\n",
    "\n",
    "IPAIR_NAME = np.loadtxt(target_dir + '/ddmergers_pairs_sdss_BPT.dat', dtype=str, unpack=True,\n",
    "                        skiprows=1, usecols=(1))\n",
    "\n",
    "INII = np.loadtxt(target_dir + '/ddmergers_pairs_sdss_BPT.dat', dtype=float, unpack=True,\n",
    "                        skiprows=1, usecols=(5))\n",
    "IHalpha = np.loadtxt(target_dir + '/ddmergers_pairs_sdss_BPT.dat', dtype=float, unpack=True,\n",
    "                        skiprows=1, usecols=(7))\n",
    "\n",
    "IOIII = np.loadtxt(target_dir + '/ddmergers_pairs_sdss_BPT.dat', dtype=float, unpack=True,\n",
    "                        skiprows=1, usecols=(11))\n",
    "IHbeta = np.loadtxt(target_dir + '/ddmergers_pairs_sdss_BPT.dat', dtype=float, unpack=True,\n",
    "                        skiprows=1, usecols=(9))\n"
   ]
  },
  {
   "cell_type": "code",
   "execution_count": 499,
   "id": "8889138e",
   "metadata": {},
   "outputs": [],
   "source": [
    "# Isolated: x and y\n",
    "\n",
    "IlogNII = np.log10(INII/IHalpha)\n",
    "IlogOIII = np.log10(IOIII/IHbeta)\n"
   ]
  },
  {
   "cell_type": "code",
   "execution_count": 500,
   "id": "6fafb205",
   "metadata": {},
   "outputs": [],
   "source": [
    "# Isolated: Find index of nan values for x (IlogNII)\n",
    "\n",
    "IXnanArray = np.isnan(IlogNII)\n",
    "InanIndex = []\n",
    "\n",
    "i = 0\n",
    "while i<len(IXnanArray):\n",
    "    if(IXnanArray[i] == True):\n",
    "        InanIndex.append(i)\n",
    "        i+=1\n",
    "    else:\n",
    "        i+=1\n",
    "\n",
    "\n",
    "                \n",
    "# Isolated: Find index of nan values for y (IlogOIII)\n",
    "\n",
    "IYnanArray = np.isnan(IlogOIII)\n",
    "InanIndex = InanIndex\n",
    "               \n",
    "j = 0\n",
    "while j<len(IYnanArray):\n",
    "    if(IYnanArray[j] == True):\n",
    "        InanIndex.append(j)\n",
    "        j+=1\n",
    "    else:\n",
    "        j+=1\n",
    "        "
   ]
  },
  {
   "cell_type": "code",
   "execution_count": 501,
   "id": "239027d2",
   "metadata": {},
   "outputs": [],
   "source": [
    "# Isolated: Delete Duplicate values\n",
    "\n",
    "InanIndex = list(dict.fromkeys(InanIndex))\n",
    "InanIndex = np.array(InanIndex)\n"
   ]
  },
  {
   "cell_type": "code",
   "execution_count": 502,
   "id": "df896723",
   "metadata": {},
   "outputs": [],
   "source": [
    "# Isolated: convert all nan index values to dummy values 99999\n",
    "\n",
    "IlogNII[InanIndex] = 99999\n",
    "IlogOIII[InanIndex] = 99999\n"
   ]
  },
  {
   "cell_type": "code",
   "execution_count": 503,
   "id": "ffa2a9d9",
   "metadata": {},
   "outputs": [],
   "source": [
    "# Isolated: Get appropriate index values, ignore nan index values\n",
    "\n",
    "IXInd = (IlogNII != 99999)\n",
    "IYInd = (IlogOIII != 99999)\n"
   ]
  },
  {
   "cell_type": "code",
   "execution_count": 504,
   "id": "d92545e8",
   "metadata": {},
   "outputs": [],
   "source": [
    "# NEIGHBORS data:"
   ]
  },
  {
   "cell_type": "code",
   "execution_count": 505,
   "id": "64d6379b",
   "metadata": {},
   "outputs": [],
   "source": [
    "# Neighbor (non-isolated) dwarf pair data\n",
    "\n",
    "NPAIR_NAME = np.loadtxt(target_dir + '/ddmergers_pairs_sdss_BPT_wneighbor.dat', dtype=str, unpack=True,\n",
    "                        skiprows=1, usecols=(1))\n",
    "\n",
    "NNII = np.loadtxt(target_dir + '/ddmergers_pairs_sdss_BPT_wneighbor.dat', dtype=float, unpack=True,\n",
    "                        skiprows=1, usecols=(5))\n",
    "NHalpha = np.loadtxt(target_dir + '/ddmergers_pairs_sdss_BPT_wneighbor.dat', dtype=float, unpack=True,\n",
    "                        skiprows=1, usecols=(7))\n",
    "\n",
    "NOIII = np.loadtxt(target_dir + '/ddmergers_pairs_sdss_BPT_wneighbor.dat', dtype=float, unpack=True,\n",
    "                        skiprows=1, usecols=(11))\n",
    "NHbeta = np.loadtxt(target_dir + '/ddmergers_pairs_sdss_BPT_wneighbor.dat', dtype=float, unpack=True,\n",
    "                        skiprows=1, usecols=(9))\n"
   ]
  },
  {
   "cell_type": "code",
   "execution_count": 506,
   "id": "13d13e06",
   "metadata": {},
   "outputs": [],
   "source": [
    "# Neighbor: x and y\n",
    "\n",
    "NlogNII = np.log10(NNII/NHalpha)\n",
    "NlogOIII = np.log10(NOIII/NHbeta)\n"
   ]
  },
  {
   "cell_type": "code",
   "execution_count": 507,
   "id": "f803d213",
   "metadata": {},
   "outputs": [],
   "source": [
    "# Neighbor: Find index of nan values for x (NlogNII)\n",
    "\n",
    "NXnanArray = np.isnan(NlogNII)\n",
    "NnanIndex = []\n",
    "\n",
    "i = 0\n",
    "while i<len(NXnanArray):\n",
    "    if(NXnanArray[i] == True):\n",
    "        NnanIndex.append(i)\n",
    "        i+=1\n",
    "    else:\n",
    "        i+=1\n",
    "\n",
    "\n",
    "        \n",
    "# Neighbor: Find index of nan values for y (NlogOIII)\n",
    "\n",
    "NYnanArray = np.isnan(NlogOIII)\n",
    "NnanIndex = NnanIndex\n",
    "                   \n",
    "j = 0\n",
    "while j<len(NYnanArray):\n",
    "    if(NYnanArray[j] == True):\n",
    "        NnanIndex.append(j)\n",
    "        j+=1\n",
    "    else:\n",
    "        j+=1\n"
   ]
  },
  {
   "cell_type": "code",
   "execution_count": 508,
   "id": "fb5ce0b0",
   "metadata": {},
   "outputs": [],
   "source": [
    "# Neighbor: Delete Duplicate values\n",
    "\n",
    "NnanIndex = list(dict.fromkeys(NnanIndex))\n",
    "NnanIndex = np.array(NnanIndex)\n"
   ]
  },
  {
   "cell_type": "code",
   "execution_count": 509,
   "id": "05e78395",
   "metadata": {},
   "outputs": [],
   "source": [
    "# Neighbor: convert all nan index values to dummy values 99999\n",
    "\n",
    "NlogNII[NnanIndex] = 99999\n",
    "NlogOIII[NnanIndex] = 99999\n"
   ]
  },
  {
   "cell_type": "code",
   "execution_count": 510,
   "id": "ca4b926c",
   "metadata": {},
   "outputs": [],
   "source": [
    "# Neighbor: Index\n",
    "\n",
    "NXInd = (NlogNII != 99999)\n",
    "NYInd = (NlogOIII != 99999)\n"
   ]
  },
  {
   "cell_type": "code",
   "execution_count": 511,
   "id": "4f7db3ee",
   "metadata": {},
   "outputs": [],
   "source": [
    "# STARGETS data:"
   ]
  },
  {
   "cell_type": "code",
   "execution_count": 512,
   "id": "990bfaa0",
   "metadata": {},
   "outputs": [],
   "source": [
    "# STargets dwarf pair data\n",
    "\n",
    "SPAIR_NAME = np.loadtxt(target_dir + '/ddmergers_pairs_sdss_BPT_STargets.dat', dtype=str, unpack=True,\n",
    "                        skiprows=1, usecols=(1))\n",
    "\n",
    "SNII = np.loadtxt(target_dir + '/ddmergers_pairs_sdss_BPT_STargets.dat', dtype=float, unpack=True,\n",
    "                        skiprows=1, usecols=(5))\n",
    "SHalpha = np.loadtxt(target_dir + '/ddmergers_pairs_sdss_BPT_STargets.dat', dtype=float, unpack=True,\n",
    "                        skiprows=1, usecols=(7))\n",
    "\n",
    "SOIII = np.loadtxt(target_dir + '/ddmergers_pairs_sdss_BPT_STargets.dat', dtype=float, unpack=True,\n",
    "                        skiprows=1, usecols=(11))\n",
    "SHbeta = np.loadtxt(target_dir + '/ddmergers_pairs_sdss_BPT_STargets.dat', dtype=float, unpack=True,\n",
    "                        skiprows=1, usecols=(9))\n"
   ]
  },
  {
   "cell_type": "code",
   "execution_count": 513,
   "id": "3adb9d9a",
   "metadata": {},
   "outputs": [],
   "source": [
    "# STargets: x and y\n",
    "\n",
    "SlogNII = np.log10(SNII/SHalpha)\n",
    "SlogOIII = np.log10(SOIII/SHbeta)\n"
   ]
  },
  {
   "cell_type": "code",
   "execution_count": 514,
   "id": "b1cb37d7",
   "metadata": {},
   "outputs": [],
   "source": [
    "# STargets: Find index of nan values for x (SlogNII)\n",
    "\n",
    "SXnanArray = np.isnan(SlogNII)\n",
    "SnanIndex = []\n",
    "\n",
    "i = 0\n",
    "while i<len(SXnanArray):\n",
    "    if(SXnanArray[i] == True):\n",
    "        SnanIndex.append(i)\n",
    "        i+=1\n",
    "    else:\n",
    "        i+=1\n",
    "\n",
    "\n",
    "        \n",
    "# STargets: Find index of nan values for y (NlogOIII)\n",
    "\n",
    "SYnanArray = np.isnan(SlogOIII)\n",
    "SnanIndex = SnanIndex\n",
    "                   \n",
    "j = 0\n",
    "while j<len(SYnanArray):\n",
    "    if(SYnanArray[j] == True):\n",
    "        SnanIndex.append(j)\n",
    "        j+=1\n",
    "    else:\n",
    "        j+=1\n"
   ]
  },
  {
   "cell_type": "code",
   "execution_count": 515,
   "id": "541dcbf4",
   "metadata": {},
   "outputs": [],
   "source": [
    "# STargets: Delete Duplicate values\n",
    "\n",
    "SnanIndex = list(dict.fromkeys(SnanIndex))\n",
    "SnanIndex = np.array(SnanIndex)\n"
   ]
  },
  {
   "cell_type": "code",
   "execution_count": 516,
   "id": "3dad2f6e",
   "metadata": {},
   "outputs": [],
   "source": [
    "# STargets: convert all nan index values to dummy values 99999\n",
    "\n",
    "SlogNII[SnanIndex] = 99999\n",
    "SlogOIII[SnanIndex] = 99999\n"
   ]
  },
  {
   "cell_type": "code",
   "execution_count": 517,
   "id": "d33d2141",
   "metadata": {},
   "outputs": [],
   "source": [
    "# STargets: Index\n",
    "\n",
    "SXInd = (SlogNII != 99999)\n",
    "SYInd = (SlogOIII != 99999)\n"
   ]
  },
  {
   "cell_type": "code",
   "execution_count": 518,
   "id": "043eeb8d",
   "metadata": {},
   "outputs": [
    {
     "data": {
      "text/plain": [
       "<function matplotlib.pyplot.show(close=None, block=None)>"
      ]
     },
     "execution_count": 518,
     "metadata": {},
     "output_type": "execute_result"
    },
    {
     "data": {
      "image/png": "[encoded data removed]",
      "text/plain": [
       "<Figure size 432x288 with 1 Axes>"
      ]
     },
     "metadata": {
      "needs_background": "light"
     },
     "output_type": "display_data"
    }
   ],
   "source": [
    "# Plot\n",
    "\n",
    "plt.scatter(IlogNII[IXInd], IlogOIII[IYInd], color = \"black\", label = \"isolated dwarf pairs\")\n",
    "plt.scatter(NlogNII[NXInd], NlogOIII[NYInd], color = \"blue\", label = \"non-isolated dwarf pairs\")\n",
    "plt.scatter(SlogNII[SXInd], SlogOIII[SYInd], color = \"orange\", marker = \"*\", label = \"STarget dwarf pairs\")\n",
    "\n",
    "\n",
    "y = (0.61/(xArr - .05)) + 1.3\n",
    "plt.plot(xArr, y, color = \"red\")  # empirical separation of SF galaxies and AGN based on SDSS galaxies \n",
    "\n",
    "y =(0.61/(xArr-.47)) + 1.19       \n",
    "plt.plot(xArr, y, color = \"blue\")  # theoretical limit for star-forming galaxies \n",
    "\n",
    "plt.ylim(-1.5, 1.5)\n",
    "\n",
    "plt.grid()\n",
    "plt.xlabel(\"log(NII/Halpha)\")\n",
    "plt.ylabel(\"log(OII/Hbeta)\")\n",
    "plt.title(\"\")\n",
    "plt.legend(loc='lower left')\n",
    "\n",
    "plt.show"
   ]
  },
  {
   "cell_type": "code",
   "execution_count": null,
   "id": "86884107",
   "metadata": {},
   "outputs": [],
   "source": []
  },
  {
   "cell_type": "code",
   "execution_count": 440,
   "id": "752229de",
   "metadata": {},
   "outputs": [],
   "source": [
    "# 305 lines"
   ]
  },
  {
   "cell_type": "code",
   "execution_count": 523,
   "id": "faed2e75",
   "metadata": {},
   "outputs": [
    {
     "name": "stdout",
     "output_type": "stream",
     "text": [
      "Path(array([[190.,  50.],\n",
      "       [ 50., 500.],\n",
      "       [500., 310.],\n",
      "       [310., 190.]]), None)\n"
     ]
    },
    {
     "data": {
      "text/plain": [
       "True"
      ]
     },
     "execution_count": 523,
     "metadata": {},
     "output_type": "execute_result"
    }
   ],
   "source": [
    "import matplotlib.path as mplPath\n",
    "import numpy as np\n",
    "\n",
    "poly = [190, 50, 500, 310]\n",
    "bbPath = mplPath.Path(np.array([[poly[0], poly[1]],\n",
    "                     [poly[1], poly[2]],\n",
    "                     [poly[2], poly[3]],\n",
    "                     [poly[3], poly[0]]]))\n",
    "print(bbPath)\n",
    "bbPath.contains_point((200, 100))"
   ]
  },
  {
   "cell_type": "code",
   "execution_count": null,
   "id": "7eadec9d",
   "metadata": {},
   "outputs": [],
   "source": []
  }
 ],
 "metadata": {
  "kernelspec": {
   "display_name": "Python 3",
   "language": "python",
   "name": "python3"
  },
  "language_info": {
   "codemirror_mode": {
    "name": "ipython",
    "version": 3
   },
   "file_extension": ".py",
   "mimetype": "text/x-python",
   "name": "python",
   "nbconvert_exporter": "python",
   "pygments_lexer": "ipython3",
   "version": "3.8.8"
  }
 },
 "nbformat": 4,
 "nbformat_minor": 5
}
